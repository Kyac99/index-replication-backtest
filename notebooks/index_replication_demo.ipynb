{
 "cells": [
  {
   "cell_type": "markdown",
   "metadata": {},
   "source": [
    "# Démonstration de Réplication d'Indice\n",
    "\n",
    "Ce notebook démontre l'utilisation du framework de réplication d'indice pour comparer les méthodes physique et synthétique."
   ]
  },
  {
   "cell_type": "markdown",
   "metadata": {},
   "source": [
    "## Configuration de l'environnement"
   ]
  },
  {
   "cell_type": "code",
   "execution_count": null,
   "metadata": {},
   "outputs": [],
   "source": [
    "import sys\n",
    "import os\n",
    "import pandas as pd\n",
    "import numpy as np\n",
    "import matplotlib.pyplot as plt\n",
    "import seaborn as sns\n",
    "from datetime import datetime\n",
    "\n",
    "# Ajouter le dossier src au path pour importer les modules\n",
    "sys.path.append('../src')\n",
    "\n",
    "# Configurer les graphiques\n",
    "plt.style.use('ggplot')\n",
    "plt.rcParams['figure.figsize'] = (12, 8)\n",
    "\n",
    "# Créer les dossiers nécessaires s'ils n'existent pas déjà\n",
    "os.makedirs('../logs', exist_ok=True)\n",
    "os.makedirs('../data/raw', exist_ok=True)\n",
    "os.makedirs('../data/processed', exist_ok=True)\n",
    "os.makedirs('../results', exist_ok=True)"
   ]
  },
  {
   "cell_type": "markdown",
   "metadata": {},
   "source": [
    "## 1. Téléchargement des données\n",
    "\n",
    "Commençons par télécharger les données historiques pour un indice."
   ]
  },
  {
   "cell_type": "code",
   "execution_count": null,
   "metadata": {},
   "outputs": [],
   "source": [
    "from data.download_data import download_index_data, get_index_components, download_components_data, save_data\n",
    "\n",
    "# Paramètres\n",
    "index_name = 'CAC40'\n",
    "index_ticker = '^FCHI'\n",
    "start_date = '2020-01-01'\n",
    "end_date = datetime.now().strftime('%Y-%m-%d')\n",
    "\n",
    "# Télécharger les données de l'indice\n",
    "print(f\"Téléchargement des données pour l'indice {index_name} ({index_ticker})\")\n",
    "index_data = download_index_data(index_ticker, start_date, end_date)\n",
    "\n",
    "# Afficher les premières lignes\n",
    "if index_data is not None:\n",
    "    print(f\"Données téléchargées avec succès: {index_data.shape[0]} jours\")\n",
    "    index_data.head()"
   ]
  },
  {
   "cell_type": "code",
   "execution_count": null,
   "metadata": {},
   "outputs": [],
   "source": [
    "# Télécharger les composants de l'indice\n",
    "components = get_index_components(index_name)\n",
    "print(f\"Composants de l'indice {index_name}: {len(components)} actions\")\n",
    "print(components[:10])  # Afficher les 10 premiers composants"
   ]
  },
  {
   "cell_type": "code",
   "execution_count": null,
   "metadata": {},
   "outputs": [],
   "source": [
    "# Télécharger les données des composants (limiter à 5 composants pour la démo)\n",
    "# En pratique, vous pourriez vouloir télécharger tous les composants\n",
    "demo_components = components[:5]\n",
    "components_data = download_components_data(demo_components, start_date, end_date)\n",
    "\n",
    "# Afficher les premières lignes d'un composant\n",
    "if components_data and demo_components[0] in components_data:\n",
    "    print(f\"Données téléchargées pour {len(components_data)} composants\")\n",
    "    components_data[demo_components[0]].head()"
   ]
  },
  {
   "cell_type": "code",
   "execution_count": null,
   "metadata": {},
   "outputs": [],
   "source": [
    "# Sauvegarder les données\n",
    "save_data(index_data, f\"{index_name}_index\", '../data/raw/indices')\n",
    "save_data(components_data, f\"{index_name}_components\", '../data/raw/components')\n",
    "\n",
    "print(\"Données sauvegardées avec succès.\")"
   ]
  },
  {
   "cell_type": "markdown",
   "metadata": {},
   "source": [
    "## 2. Traitement des données\n",
    "\n",
    "Maintenant, traitons les données brutes pour préparer le backtest."
   ]
  },
  {
   "cell_type": "code",
   "execution_count": null,
   "metadata": {},
   "outputs": [],
   "source": [
    "from data.process_data import load_index_data, load_components_data, calculate_returns, create_price_matrix, create_return_matrix, process_weights_data, save_processed_data\n",
    "\n",
    "# Charger les données brutes\n",
    "raw_index_data = load_index_data(index_name, '../data/raw/indices')\n",
    "raw_components_data = load_components_data(index_name, '../data/raw/components')\n",
    "\n",
    "# Calculer les rendements de l'indice\n",
    "if raw_index_data is not None:\n",
    "    index_returns = calculate_returns(raw_index_data)\n",
    "    print(f\"Rendements calculés pour l'indice {index_name}\")\n",
    "    index_returns[['daily_return', 'cumulative_return']].head()"
   ]
  },
  {
   "cell_type": "code",
   "execution_count": null,
   "metadata": {},
   "outputs": [],
   "source": [
    "# Créer la matrice de prix\n",
    "if raw_components_data:\n",
    "    price_matrix = create_price_matrix(raw_components_data)\n",
    "    print(f\"Matrice de prix créée: {price_matrix.shape}\")\n",
    "    price_matrix.head()"
   ]
  },
  {
   "cell_type": "code",
   "execution_count": null,
   "metadata": {},
   "outputs": [],
   "source": [
    "# Créer la matrice de rendements\n",
    "if raw_components_data:\n",
    "    return_matrix = create_return_matrix(raw_components_data)\n",
    "    print(f\"Matrice de rendements créée: {return_matrix.shape}\")\n",
    "    return_matrix.head()"
   ]
  },
  {
   "cell_type": "code",
   "execution_count": null,
   "metadata": {},
   "outputs": [],
   "source": [
    "# Créer les pondérations (égales pour la démo)\n",
    "if raw_components_data:\n",
    "    weights_df = process_weights_data(index_name, raw_components_data)\n",
    "    print(f\"Matrice de pondérations créée: {weights_df.shape}\")\n",
    "    weights_df.head()"
   ]
  },
  {
   "cell_type": "code",
   "execution_count": null,
   "metadata": {},
   "outputs": [],
   "source": [
    "# Sauvegarder les données traitées\n",
    "save_processed_data(index_returns, f\"{index_name}_index_returns\", '../data/processed/indices')\n",
    "save_processed_data(price_matrix, f\"{index_name}_price_matrix\", '../data/processed/components')\n",
    "save_processed_data(return_matrix, f\"{index_name}_return_matrix\", '../data/processed/components')\n",
    "save_processed_data(weights_df, f\"{index_name}_weights\", '../data/processed/weights')\n",
    "\n",
    "print(\"Données traitées sauvegardées avec succès.\")"
   ]
  },
  {
   "cell_type": "markdown",
   "metadata": {},
   "source": [
    "## 3. Réplication Physique\n",
    "\n",
    "Testons d'abord la stratégie de réplication physique."
   ]
  },
  {
   "cell_type": "code",
   "execution_count": null,
   "metadata": {},
   "outputs": [],
   "source": [
    "from models.physical_replication import PhysicalReplication\n",
    "\n",
    "# Paramètres\n",
    "initial_capital = 1000000.0  # 1 million d'euros\n",
    "management_fee = 0.0035      # 35 bps de frais de gestion\n",
    "transaction_cost = 0.0020    # 20 bps de frais de transaction\n",
    "rebalance_frequency = 'quarterly'\n",
    "\n",
    "# Initialiser la réplication physique\n",
    "physical = PhysicalReplication(\n",
    "    index_name=index_name,\n",
    "    start_date=start_date,\n",
    "    end_date=end_date,\n",
    "    data_dir='../data/processed',\n",
    "    initial_capital=initial_capital,\n",
    "    management_fee=management_fee,\n",
    "    transaction_cost=transaction_cost,\n",
    "    rebalance_frequency=rebalance_frequency\n",
    ")\n",
    "\n",
    "# Exécuter le backtest\n",
    "physical_results = physical.run_backtest()"
   ]
  },
  {
   "cell_type": "code",
   "execution_count": null,
   "metadata": {},
   "outputs": [],
   "source": [
    "# Afficher les métriques de performance\n",
    "physical_metrics = physical.calculate_performance_metrics(physical_results)\n",
    "\n",
    "print(f\"Réplication Physique - Métriques de Performance\")\n",
    "print(f\"Rendement Cumulé: {physical_metrics['portfolio']['cumulative_return']:.2%} (Ptf) vs {physical_metrics['index']['cumulative_return']:.2%} (Idx)\")\n",
    "print(f\"Rendement Annualisé: {physical_metrics['portfolio']['annualized_return']:.2%} (Ptf) vs {physical_metrics['index']['annualized_return']:.2%} (Idx)\")\n",
    "print(f\"Volatilité: {physical_metrics['portfolio']['volatility']:.2%} (Ptf) vs {physical_metrics['index']['volatility']:.2%} (Idx)\")\n",
    "print(f\"Tracking Error: {physical_metrics['tracking_error']:.2%}\")\n",
    "print(f\"Information Ratio: {physical_metrics['information_ratio']:.2f}\")\n",
    "print(f\"Coûts de Transaction Totaux: {physical_metrics['total_transaction_costs']:.2f} €\")\n",
    "print(f\"Nombre de Transactions: {physical_metrics['number_of_transactions']}\")"
   ]
  },
  {
   "cell_type": "code",
   "execution_count": null,
   "metadata": {},
   "outputs": [],
   "source": [
    "# Visualiser les résultats\n",
    "physical.plot_results(physical_results)"
   ]
  },
  {
   "cell_type": "markdown",
   "metadata": {},
   "source": [
    "## 4. Réplication Synthétique\n",
    "\n",
    "Maintenant, testons la stratégie de réplication synthétique."
   ]
  },
  {
   "cell_type": "code",
   "execution_count": null,
   "metadata": {},
   "outputs": [],
   "source": [
    "from models.synthetic_replication import SyntheticReplication\n",
    "\n",
    "# Paramètres\n",
    "management_fee = 0.0025      # 25 bps de frais de gestion\n",
    "swap_fee = 0.0015           # 15 bps de frais de swap\n",
    "swap_reset_frequency = 'monthly'\n",
    "risk_free_rate = 0.02       # 2% de taux sans risque\n",
    "\n",
    "# Initialiser la réplication synthétique\n",
    "synthetic = SyntheticReplication(\n",
    "    index_name=index_name,\n",
    "    start_date=start_date,\n",
    "    end_date=end_date,\n",
    "    data_dir='../data/processed',\n",
    "    initial_capital=initial_capital,\n",
    "    management_fee=management_fee,\n",
    "    swap_fee=swap_fee,\n",
    "    swap_reset_frequency=swap_reset_frequency,\n",
    "    risk_free_rate=risk_free_rate\n",
    ")\n",
    "\n",
    "# Exécuter le backtest\n",
    "synthetic_results = synthetic.run_backtest()"
   ]
  },
  {
   "cell_type": "code",
   "execution_count": null,
   "metadata": {},
   "outputs": [],
   "source": [
    "# Afficher les métriques de performance\n",
    "synthetic_metrics = synthetic.calculate_performance_metrics(synthetic_results)\n",
    "\n",
    "print(f\"Réplication Synthétique - Métriques de Performance\")\n",
    "print(f\"Rendement Cumulé: {synthetic_metrics['portfolio']['cumulative_return']:.2%} (Ptf) vs {synthetic_metrics['index']['cumulative_return']:.2%} (Idx)\")\n",
    "print(f\"Rendement Annualisé: {synthetic_metrics['portfolio']['annualized_return']:.2%} (Ptf) vs {synthetic_metrics['index']['annualized_return']:.2%} (Idx)\")\n",
    "print(f\"Volatilité: {synthetic_metrics['portfolio']['volatility']:.2%} (Ptf) vs {synthetic_metrics['index']['volatility']:.2%} (Idx)\")\n",
    "print(f\"Tracking Error: {synthetic_metrics['tracking_error']:.2%}\")\n",
    "print(f\"Information Ratio: {synthetic_metrics['information_ratio']:.2f}\")\n",
    "print(f\"Coûts de Swap Totaux: {synthetic_metrics['total_swap_costs']:.2f} €\")\n",
    "print(f\"Nombre de Resets du Swap: {synthetic_metrics['number_of_swap_resets']}\")"
   ]
  },
  {
   "cell_type": "code",
   "execution_count": null,
   "metadata": {},
   "outputs": [],
   "source": [
    "# Visualiser les résultats\n",
    "synthetic.plot_results(synthetic_results)"
   ]
  },
  {
   "cell_type": "markdown",
   "metadata": {},
   "source": [
    "## 5. Comparaison des Stratégies\n",
    "\n",
    "Enfin, comparons les deux stratégies côte à côte."
   ]
  },
  {
   "cell_type": "code",
   "execution_count": null,
   "metadata": {},
   "outputs": [],
   "source": [
    "from models.comparison import ReplicationComparison\n",
    "\n",
    "# Paramètres pour la réplication physique\n",
    "physical_params = {\n",
    "    'management_fee': 0.0035,\n",
    "    'transaction_cost': 0.0020,\n",
    "    'rebalance_frequency': 'quarterly'\n",
    "}\n",
    "\n",
    "# Paramètres pour la réplication synthétique\n",
    "synthetic_params = {\n",
    "    'management_fee': 0.0025,\n",
    "    'swap_fee': 0.0015,\n",
    "    'swap_reset_frequency': 'monthly',\n",
    "    'risk_free_rate': 0.02\n",
    "}\n",
    "\n",
    "# Initialiser la comparaison\n",
    "comparison = ReplicationComparison(\n",
    "    index_name=index_name,\n",
    "    start_date=start_date,\n",
    "    end_date=end_date,\n",
    "    data_dir='../data/processed',\n",
    "    initial_capital=initial_capital,\n",
    "    physical_params=physical_params,\n",
    "    synthetic_params=synthetic_params\n",
    ")\n",
    "\n",
    "# Exécuter la comparaison\n",
    "comparison_results = comparison.run_comparison()"
   ]
  },
  {
   "cell_type": "code",
   "execution_count": null,
   "metadata": {},
   "outputs": [],
   "source": [
    "# Visualiser la comparaison\n",
    "comparison.plot_comparison(comparison_results)"
   ]
  },
  {
   "cell_type": "code",
   "execution_count": null,
   "metadata": {},
   "outputs": [],
   "source": [
    "# Générer un rapport complet\n",
    "report_dir = comparison.generate_report(comparison_results, '../results')\n",
    "print(f\"Rapport généré dans: {report_dir}\")"
   ]
  },
  {
   "cell_type": "markdown",
   "metadata": {},
   "source": [
    "## 6. Tests de Sensibilité\n",
    "\n",
    "Enfin, effectuons quelques tests de sensibilité pour évaluer l'impact des paramètres clés."
   ]
  },
  {
   "cell_type": "code",
   "execution_count": null,
   "metadata": {},
   "outputs": [],
   "source": [
    "# Test de sensibilité sur les fréquences de rebalancement\n",
    "rebalance_frequencies = ['monthly', 'quarterly', 'yearly']\n",
    "physical_results_by_freq = {}\n",
    "tracking_errors_by_freq = {}\n",
    "transaction_costs_by_freq = {}\n",
    "\n",
    "for freq in rebalance_frequencies:\n",
    "    print(f\"Test de la fréquence de rebalancement: {freq}\")\n",
    "    physical_test = PhysicalReplication(\n",
    "        index_name=index_name,\n",
    "        start_date=start_date,\n",
    "        end_date=end_date,\n",
    "        data_dir='../data/processed',\n",
    "        initial_capital=initial_capital,\n",
    "        management_fee=0.0035,\n",
    "        transaction_cost=0.0020,\n",
    "        rebalance_frequency=freq\n",
    "    )\n",
    "    \n",
    "    results = physical_test.run_backtest()\n",
    "    metrics = physical_test.calculate_performance_metrics(results)\n",
    "    \n",
    "    physical_results_by_freq[freq] = results\n",
    "    tracking_errors_by_freq[freq] = metrics['tracking_error']\n",
    "    transaction_costs_by_freq[freq] = metrics['total_transaction_costs']"
   ]
  },
  {
   "cell_type": "code",
   "execution_count": null,
   "metadata": {},
   "outputs": [],
   "source": [
    "# Visualiser l'impact de la fréquence de rebalancement\n",
    "fig, (ax1, ax2) = plt.subplots(1, 2, figsize=(16, 6))\n",
    "\n",
    "# Tracking errors\n",
    "tracking_errors = [tracking_errors_by_freq[freq] * 100 for freq in rebalance_frequencies]\n",
    "ax1.bar(rebalance_frequencies, tracking_errors)\n",
    "ax1.set_title('Tracking Error par Fréquence de Rebalancement')\n",
    "ax1.set_xlabel('Fréquence de Rebalancement')\n",
    "ax1.set_ylabel('Tracking Error (%)')\n",
    "for i, value in enumerate(tracking_errors):\n",
    "    ax1.text(i, value, f'{value:.2f}%', ha='center', va='bottom')\n",
    "\n",
    "# Transaction costs\n",
    "costs = [transaction_costs_by_freq[freq] for freq in rebalance_frequencies]\n",
    "ax2.bar(rebalance_frequencies, costs)\n",
    "ax2.set_title('Coûts de Transaction par Fréquence de Rebalancement')\n",
    "ax2.set_xlabel('Fréquence de Rebalancement')\n",
    "ax2.set_ylabel('Coûts Totaux (€)')\n",
    "for i, value in enumerate(costs):\n",
    "    ax2.text(i, value, f'{value:.2f} €', ha='center', va='bottom')\n",
    "\n",
    "plt.tight_layout()\n",
    "plt.show()"
   ]
  },
  {
   "cell_type": "code",
   "execution_count": null,
   "metadata": {},
   "outputs": [],
   "source": [
    "# Test de sensibilité sur les frais de gestion et de swap\n",
    "fee_levels = [0.0010, 0.0025, 0.0050]  # 10, 25, 50 bps\n",
    "synthetic_results_by_fee = {}\n",
    "performance_by_fee = {}\n",
    "\n",
    "for fee in fee_levels:\n",
    "    print(f\"Test avec frais de gestion et de swap: {fee:.2%}\")\n",
    "    synthetic_test = SyntheticReplication(\n",
    "        index_name=index_name,\n",
    "        start_date=start_date,\n",
    "        end_date=end_date,\n",
    "        data_dir='../data/processed',\n",
    "        initial_capital=initial_capital,\n",
    "        management_fee=fee,\n",
    "        swap_fee=fee,\n",
    "        swap_reset_frequency='monthly',\n",
    "        risk_free_rate=0.02\n",
    "    )\n",
    "    \n",
    "    results = synthetic_test.run_backtest()\n",
    "    metrics = synthetic_test.calculate_performance_metrics(results)\n",
    "    \n",
    "    synthetic_results_by_fee[fee] = results\n",
    "    performance_by_fee[fee] = metrics['portfolio']['cumulative_return']"
   ]
  },
  {
   "cell_type": "code",
   "execution_count": null,
   "metadata": {},
   "outputs": [],
   "source": [
    "# Visualiser l'impact des frais sur la performance\n",
    "fig, ax = plt.subplots(figsize=(10, 6))\n",
    "\n",
    "fee_labels = [f'{fee:.2%}' for fee in fee_levels]\n",
    "performance = [performance_by_fee[fee] * 100 for fee in fee_levels]\n",
    "index_return = synthetic_metrics['index']['cumulative_return'] * 100\n",
    "\n",
    "# Barres pour les différents niveaux de frais\n",
    "ax.bar(fee_labels, performance)\n",
    "ax.axhline(y=index_return, color='r', linestyle='--', label=f'Indice: {index_return:.2f}%')\n",
    "\n",
    "ax.set_title('Performance Cumulée par Niveau de Frais (Réplication Synthétique)')\n",
    "ax.set_xlabel('Niveau de Frais (Management + Swap)')\n",
    "ax.set_ylabel('Rendement Cumulé (%)')\n",
    "ax.legend()\n",
    "\n",
    "for i, value in enumerate(performance):\n",
    "    ax.text(i, value, f'{value:.2f}%', ha='center', va='bottom')\n",
    "\n",
    "plt.tight_layout()\n",
    "plt.show()"
   ]
  },
  {
   "cell_type": "markdown",
   "metadata": {},
   "source": [
    "## Conclusion\n",
    "\n",
    "Ce notebook a démontré l'utilisation du framework de réplication d'indice pour comparer les méthodes physique et synthétique. Nous avons pu observer les différences de performance, de tracking error et de coûts entre les deux approches.\n",
    "\n",
    "En résumé, nos résultats montrent que :\n",
    "\n",
    "1. **Réplication Physique** :\n",
    "   - Avantages : contrôle direct des actifs, transparence, perception des dividendes\n",
    "   - Inconvénients : coûts de transaction plus élevés, complexité opérationnelle\n",
    "\n",
    "2. **Réplication Synthétique** :\n",
    "   - Avantages : coûts potentiellement plus bas, meilleure réplication (tracking error inférieur)\n",
    "   - Inconvénients : risque de contrepartie, moins de transparence\n",
    "\n",
    "Le choix entre ces deux méthodes dépend donc des objectifs spécifiques de l'investisseur, de son appétit pour le risque et des contraintes opérationnelles."
   ]
  }
 ],
 "metadata": {
  "kernelspec": {
   "display_name": "Python 3",
   "language": "python",
   "name": "python3"
  },
  "language_info": {
   "codemirror_mode": {
    "name": "ipython",
    "version": 3
   },
   "file_extension": ".py",
   "mimetype": "text/x-python",
   "name": "python",
   "nbconvert_exporter": "python",
   "pygments_lexer": "ipython3",
   "version": "3.8.10"
  }
 },
 "nbformat": 4,
 "nbformat_minor": 4
}
